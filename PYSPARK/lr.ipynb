{
 "cells": [
  {
   "cell_type": "code",
   "execution_count": 13,
   "id": "05332c0e",
   "metadata": {},
   "outputs": [],
   "source": [
    "from pyspark.sql import SparkSession\n",
    "from pyspark.ml.feature import VectorAssembler\n",
    "spark = SparkSession.builder.appName(\"IstanbulStockExchange\").getOrCreate()\n",
    "\n",
    "data = spark.read.csv(\"istanbul_stock_exchange.csv\",header=True, inferSchema=True)\n"
   ]
  },
  {
   "cell_type": "code",
   "execution_count": 14,
   "id": "03cb3e3e",
   "metadata": {},
   "outputs": [],
   "source": [
    "feature_cols = [\"SP\", \"DAX\", \"FTSE\", \"NIKKEI\", \"BOVESPA\", \"EU\", \"EM\"]\n",
    "target_col = \"ISE_TL\""
   ]
  },
  {
   "cell_type": "code",
   "execution_count": 15,
   "id": "38659b6c",
   "metadata": {},
   "outputs": [],
   "source": [
    "vec=VectorAssembler(inputCols=feature_cols, outputCol=\"features\")\n",
    "\n",
    "data= vec.transform(data).select(\"features\",target_col)\n"
   ]
  },
  {
   "cell_type": "code",
   "execution_count": null,
   "id": "08265c02",
   "metadata": {},
   "outputs": [],
   "source": []
  },
  {
   "cell_type": "code",
   "execution_count": 16,
   "id": "91642a2c",
   "metadata": {},
   "outputs": [],
   "source": [
    "train_data, test_data= data.randomSplit([0.8,0.2])"
   ]
  },
  {
   "cell_type": "code",
   "execution_count": 19,
   "id": "3217f40d",
   "metadata": {},
   "outputs": [],
   "source": [
    "from pyspark.ml.regression import LinearRegression\n",
    "\n",
    "lr= LinearRegression(featuresCol=\"features\",labelCol=target_col)\n",
    "\n",
    "model=lr.fit(train_data)"
   ]
  },
  {
   "cell_type": "code",
   "execution_count": 21,
   "id": "0e812b28",
   "metadata": {},
   "outputs": [],
   "source": [
    "prediction = model.transform(test_data)\n"
   ]
  },
  {
   "cell_type": "code",
   "execution_count": 25,
   "id": "3089c9c9",
   "metadata": {},
   "outputs": [
    {
     "name": "stdout",
     "output_type": "stream",
     "text": [
      "0.39099338889587565\n"
     ]
    }
   ],
   "source": [
    "from pyspark.ml.evaluation import RegressionEvaluator\n",
    "regeval= RegressionEvaluator(labelCol=target_col,predictionCol=\"prediction\",metricName=\"r2\")\n",
    "\n",
    "r2score= regeval.evaluate(prediction)\n",
    "print(r2score)"
   ]
  },
  {
   "cell_type": "code",
   "execution_count": 26,
   "id": "0e77d419",
   "metadata": {},
   "outputs": [],
   "source": [
    "spark.stop()"
   ]
  }
 ],
 "metadata": {
  "kernelspec": {
   "display_name": "Python 3",
   "language": "python",
   "name": "python3"
  },
  "language_info": {
   "codemirror_mode": {
    "name": "ipython",
    "version": 3
   },
   "file_extension": ".py",
   "mimetype": "text/x-python",
   "name": "python",
   "nbconvert_exporter": "python",
   "pygments_lexer": "ipython3",
   "version": "3.12.3"
  }
 },
 "nbformat": 4,
 "nbformat_minor": 5
}
