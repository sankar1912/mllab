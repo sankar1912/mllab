{
 "cells": [
  {
   "cell_type": "code",
   "execution_count": 1,
   "id": "4a3a293c",
   "metadata": {},
   "outputs": [],
   "source": [
    "import pandas as pd\n",
    "import tensorflow as tf"
   ]
  },
  {
   "cell_type": "code",
   "execution_count": 39,
   "id": "c72903a1",
   "metadata": {},
   "outputs": [],
   "source": [
    "from tensorflow.keras import layers"
   ]
  },
  {
   "cell_type": "code",
   "execution_count": 40,
   "id": "d6cc2924",
   "metadata": {},
   "outputs": [],
   "source": [
    "df= pd.read_csv('./reciepe_reviews.csv')"
   ]
  },
  {
   "cell_type": "code",
   "execution_count": 87,
   "id": "9c06e74b",
   "metadata": {},
   "outputs": [
    {
     "name": "stdout",
     "output_type": "stream",
     "text": [
      "<class 'pandas.core.frame.DataFrame'>\n",
      "Index: 18180 entries, 0 to 18181\n",
      "Data columns (total 15 columns):\n",
      " #   Column           Non-Null Count  Dtype \n",
      "---  ------           --------------  ----- \n",
      " 0   Unnamed: 0       18180 non-null  int64 \n",
      " 1   recipe_number    18180 non-null  int64 \n",
      " 2   recipe_code      18180 non-null  int64 \n",
      " 3   recipe_name      18180 non-null  object\n",
      " 4   comment_id       18180 non-null  object\n",
      " 5   user_id          18180 non-null  object\n",
      " 6   user_name        18180 non-null  object\n",
      " 7   user_reputation  18180 non-null  int64 \n",
      " 8   created_at       18180 non-null  int64 \n",
      " 9   reply_count      18180 non-null  int64 \n",
      " 10  thumbs_up        18180 non-null  int64 \n",
      " 11  thumbs_down      18180 non-null  int64 \n",
      " 12  stars            18180 non-null  int64 \n",
      " 13  best_score       18180 non-null  int64 \n",
      " 14  text             18180 non-null  object\n",
      "dtypes: int64(10), object(5)\n",
      "memory usage: 2.2+ MB\n"
     ]
    }
   ],
   "source": [
    "df.info()\n",
    "df.dropna(subset=['text','stars'],inplace=True)\n",
    "X=df[['text','recipe_name']]\n",
    "y=df['stars']"
   ]
  },
  {
   "cell_type": "code",
   "execution_count": null,
   "id": "dd2db57d",
   "metadata": {},
   "outputs": [],
   "source": []
  },
  {
   "cell_type": "code",
   "execution_count": 88,
   "id": "0487ca74",
   "metadata": {},
   "outputs": [
    {
     "data": {
      "text/plain": [
       "array([[0., 0., 0., ..., 0., 0., 0.],\n",
       "       [0., 0., 0., ..., 0., 0., 0.],\n",
       "       [0., 0., 0., ..., 0., 0., 0.],\n",
       "       ...,\n",
       "       [0., 0., 0., ..., 0., 0., 0.],\n",
       "       [0., 0., 0., ..., 0., 0., 0.],\n",
       "       [0., 0., 0., ..., 0., 0., 0.]])"
      ]
     },
     "execution_count": 88,
     "metadata": {},
     "output_type": "execute_result"
    }
   ],
   "source": [
    "from sklearn.calibration import LabelEncoder\n",
    "from sklearn.discriminant_analysis import StandardScaler\n",
    "from sklearn.preprocessing import OneHotEncoder\n",
    "\n",
    "lbencoder =LabelEncoder()\n",
    "y.unique()\n",
    "y.isna().sum()\n",
    "y_prepocessed=lbencoder.fit_transform(y)\n",
    "encoder =OneHotEncoder()\n",
    "X_preprocessed= encoder.fit_transform(X).toarray()\n",
    "X_preprocessed"
   ]
  },
  {
   "cell_type": "code",
   "execution_count": 94,
   "id": "8950be13",
   "metadata": {},
   "outputs": [],
   "source": [
    "from tensorflow.keras.models import Sequential\n",
    "model = Sequential([\n",
    "    layers.Dense(64, input_shape=(X_preprocessed.shape[1],), activation=\"relu\"),\n",
    "    layers.Dense(32, activation=\"relu\"),\n",
    "    layers.Dense(16, activation=\"relu\"),\n",
    "    layers.Dense(8, activation=\"relu\"),\n",
    "    layers.Dense(len(lbencoder.classes_), activation=\"softmax\")  # Use softmax for multi-class\n",
    "])"
   ]
  },
  {
   "cell_type": "code",
   "execution_count": 95,
   "id": "aaa74a8e",
   "metadata": {},
   "outputs": [],
   "source": [
    "model.compile(loss=\"sparse_categorical_crossentropy\",optimizer=\"SGD\", metrics=[\"accuracy\"])"
   ]
  },
  {
   "cell_type": "code",
   "execution_count": 96,
   "id": "2ea4681d",
   "metadata": {},
   "outputs": [
    {
     "name": "stdout",
     "output_type": "stream",
     "text": [
      "Epoch 1/10\n",
      "\u001b[1m569/569\u001b[0m \u001b[32m━━━━━━━━━━━━━━━━━━━━\u001b[0m\u001b[37m\u001b[0m \u001b[1m4s\u001b[0m 6ms/step - accuracy: 0.7512 - loss: 1.1783\n",
      "Epoch 2/10\n",
      "\u001b[1m569/569\u001b[0m \u001b[32m━━━━━━━━━━━━━━━━━━━━\u001b[0m\u001b[37m\u001b[0m \u001b[1m3s\u001b[0m 6ms/step - accuracy: 0.7578 - loss: 0.8837\n",
      "Epoch 3/10\n",
      "\u001b[1m569/569\u001b[0m \u001b[32m━━━━━━━━━━━━━━━━━━━━\u001b[0m\u001b[37m\u001b[0m \u001b[1m3s\u001b[0m 6ms/step - accuracy: 0.7616 - loss: 0.8631\n",
      "Epoch 4/10\n",
      "\u001b[1m569/569\u001b[0m \u001b[32m━━━━━━━━━━━━━━━━━━━━\u001b[0m\u001b[37m\u001b[0m \u001b[1m4s\u001b[0m 6ms/step - accuracy: 0.7588 - loss: 0.8688\n",
      "Epoch 5/10\n",
      "\u001b[1m569/569\u001b[0m \u001b[32m━━━━━━━━━━━━━━━━━━━━\u001b[0m\u001b[37m\u001b[0m \u001b[1m3s\u001b[0m 6ms/step - accuracy: 0.7626 - loss: 0.8623\n",
      "Epoch 6/10\n",
      "\u001b[1m569/569\u001b[0m \u001b[32m━━━━━━━━━━━━━━━━━━━━\u001b[0m\u001b[37m\u001b[0m \u001b[1m4s\u001b[0m 6ms/step - accuracy: 0.7640 - loss: 0.8500\n",
      "Epoch 7/10\n",
      "\u001b[1m569/569\u001b[0m \u001b[32m━━━━━━━━━━━━━━━━━━━━\u001b[0m\u001b[37m\u001b[0m \u001b[1m3s\u001b[0m 6ms/step - accuracy: 0.7608 - loss: 0.8557\n",
      "Epoch 8/10\n",
      "\u001b[1m569/569\u001b[0m \u001b[32m━━━━━━━━━━━━━━━━━━━━\u001b[0m\u001b[37m\u001b[0m \u001b[1m3s\u001b[0m 6ms/step - accuracy: 0.7596 - loss: 0.8600\n",
      "Epoch 9/10\n",
      "\u001b[1m569/569\u001b[0m \u001b[32m━━━━━━━━━━━━━━━━━━━━\u001b[0m\u001b[37m\u001b[0m \u001b[1m4s\u001b[0m 6ms/step - accuracy: 0.7669 - loss: 0.8383\n",
      "Epoch 10/10\n",
      "\u001b[1m569/569\u001b[0m \u001b[32m━━━━━━━━━━━━━━━━━━━━\u001b[0m\u001b[37m\u001b[0m \u001b[1m3s\u001b[0m 6ms/step - accuracy: 0.7618 - loss: 0.8482\n"
     ]
    },
    {
     "data": {
      "text/plain": [
       "<keras.src.callbacks.history.History at 0x1e262474e30>"
      ]
     },
     "execution_count": 96,
     "metadata": {},
     "output_type": "execute_result"
    }
   ],
   "source": [
    "model.fit(X_preprocessed,y_prepocessed,epochs=10)"
   ]
  },
  {
   "cell_type": "code",
   "execution_count": 65,
   "id": "694ba088",
   "metadata": {},
   "outputs": [
    {
     "name": "stdout",
     "output_type": "stream",
     "text": [
      "<class 'pandas.core.frame.DataFrame'>\n",
      "RangeIndex: 18182 entries, 0 to 18181\n",
      "Data columns (total 15 columns):\n",
      " #   Column           Non-Null Count  Dtype \n",
      "---  ------           --------------  ----- \n",
      " 0   Unnamed: 0       18182 non-null  int64 \n",
      " 1   recipe_number    18182 non-null  int64 \n",
      " 2   recipe_code      18182 non-null  int64 \n",
      " 3   recipe_name      18182 non-null  object\n",
      " 4   comment_id       18182 non-null  object\n",
      " 5   user_id          18182 non-null  object\n",
      " 6   user_name        18182 non-null  object\n",
      " 7   user_reputation  18182 non-null  int64 \n",
      " 8   created_at       18182 non-null  int64 \n",
      " 9   reply_count      18182 non-null  int64 \n",
      " 10  thumbs_up        18182 non-null  int64 \n",
      " 11  thumbs_down      18182 non-null  int64 \n",
      " 12  stars            18182 non-null  int64 \n",
      " 13  best_score       18182 non-null  int64 \n",
      " 14  text             18180 non-null  object\n",
      "dtypes: int64(10), object(5)\n",
      "memory usage: 2.1+ MB\n",
      "Unique values in y before encoding: [5 0 4 3 1 2]\n",
      "Unique values in y after encoding: [5 5 5 ... 5 5 5]\n",
      "NaN values in y: 0\n"
     ]
    },
    {
     "name": "stderr",
     "output_type": "stream",
     "text": [
      "C:\\Users\\HP\\AppData\\Roaming\\Python\\Python312\\site-packages\\keras\\src\\layers\\core\\dense.py:87: UserWarning: Do not pass an `input_shape`/`input_dim` argument to a layer. When using Sequential models, prefer using an `Input(shape)` object as the first layer in the model instead.\n",
      "  super().__init__(activity_regularizer=activity_regularizer, **kwargs)\n"
     ]
    },
    {
     "name": "stdout",
     "output_type": "stream",
     "text": [
      "Epoch 1/10\n",
      "\u001b[1m455/455\u001b[0m \u001b[32m━━━━━━━━━━━━━━━━━━━━\u001b[0m\u001b[37m\u001b[0m \u001b[1m4s\u001b[0m 8ms/step - accuracy: 0.7457 - loss: 1.3002\n",
      "Epoch 2/10\n",
      "\u001b[1m455/455\u001b[0m \u001b[32m━━━━━━━━━━━━━━━━━━━━\u001b[0m\u001b[37m\u001b[0m \u001b[1m3s\u001b[0m 7ms/step - accuracy: 0.7604 - loss: 0.8764\n",
      "Epoch 3/10\n",
      "\u001b[1m455/455\u001b[0m \u001b[32m━━━━━━━━━━━━━━━━━━━━\u001b[0m\u001b[37m\u001b[0m \u001b[1m3s\u001b[0m 7ms/step - accuracy: 0.7594 - loss: 0.8681\n",
      "Epoch 4/10\n",
      "\u001b[1m455/455\u001b[0m \u001b[32m━━━━━━━━━━━━━━━━━━━━\u001b[0m\u001b[37m\u001b[0m \u001b[1m3s\u001b[0m 7ms/step - accuracy: 0.7583 - loss: 0.8722\n",
      "Epoch 5/10\n",
      "\u001b[1m455/455\u001b[0m \u001b[32m━━━━━━━━━━━━━━━━━━━━\u001b[0m\u001b[37m\u001b[0m \u001b[1m3s\u001b[0m 7ms/step - accuracy: 0.7619 - loss: 0.8624\n",
      "Epoch 6/10\n",
      "\u001b[1m455/455\u001b[0m \u001b[32m━━━━━━━━━━━━━━━━━━━━\u001b[0m\u001b[37m\u001b[0m \u001b[1m3s\u001b[0m 7ms/step - accuracy: 0.7586 - loss: 0.8673\n",
      "Epoch 7/10\n",
      "\u001b[1m455/455\u001b[0m \u001b[32m━━━━━━━━━━━━━━━━━━━━\u001b[0m\u001b[37m\u001b[0m \u001b[1m3s\u001b[0m 7ms/step - accuracy: 0.7513 - loss: 0.8806\n",
      "Epoch 8/10\n",
      "\u001b[1m455/455\u001b[0m \u001b[32m━━━━━━━━━━━━━━━━━━━━\u001b[0m\u001b[37m\u001b[0m \u001b[1m3s\u001b[0m 7ms/step - accuracy: 0.7635 - loss: 0.8471\n",
      "Epoch 9/10\n",
      "\u001b[1m455/455\u001b[0m \u001b[32m━━━━━━━━━━━━━━━━━━━━\u001b[0m\u001b[37m\u001b[0m \u001b[1m3s\u001b[0m 7ms/step - accuracy: 0.7563 - loss: 0.8627\n",
      "Epoch 10/10\n",
      "\u001b[1m455/455\u001b[0m \u001b[32m━━━━━━━━━━━━━━━━━━━━\u001b[0m\u001b[37m\u001b[0m \u001b[1m3s\u001b[0m 7ms/step - accuracy: 0.7657 - loss: 0.8373\n"
     ]
    },
    {
     "data": {
      "text/plain": [
       "<keras.src.callbacks.history.History at 0x1e25e6ed040>"
      ]
     },
     "execution_count": 65,
     "metadata": {},
     "output_type": "execute_result"
    }
   ],
   "source": [
    "import pandas as pd\n",
    "from sklearn.model_selection import train_test_split\n",
    "from sklearn.preprocessing import OneHotEncoder\n",
    "from sklearn.preprocessing import LabelEncoder\n",
    "from tensorflow.keras import layers\n",
    "from tensorflow.keras.models import Sequential\n",
    "\n",
    "# Load the data\n",
    "df = pd.read_csv('./reciepe_reviews.csv')\n",
    "df.info()\n",
    "\n",
    "# Drop rows with missing 'text' or 'stars' values\n",
    "df.dropna(subset=['text', 'stars'], inplace=True)\n",
    "\n",
    "# Select features and target\n",
    "X = df[['text', 'recipe_name']]\n",
    "y = df['stars']\n",
    "\n",
    "# Check for unique values in y before encoding\n",
    "print(\"Unique values in y before encoding:\", y.unique())\n",
    "\n",
    "# OneHotEncode the features\n",
    "encoder = OneHotEncoder()\n",
    "X_preprocessed = encoder.fit_transform(X).toarray()  # Convert to dense array if needed\n",
    "\n",
    "# Encode the target variable\n",
    "label_encoder = LabelEncoder()\n",
    "y_preprocessed = label_encoder.fit_transform(y)\n",
    "\n",
    "# Check for unique values in y after encoding\n",
    "print(\"Unique values in y after encoding:\", y_preprocessed)\n",
    "\n",
    "# Check for NaN values in y\n",
    "print(\"NaN values in y:\", y.isna().sum())\n",
    "\n",
    "# Split the data\n",
    "x_train, x_test, y_train, y_test = train_test_split(X_preprocessed, y_preprocessed, test_size=0.2)\n",
    "\n",
    "# Build the model\n",
    "model = Sequential([\n",
    "    layers.Dense(64, input_shape=(X_preprocessed.shape[1],), activation=\"relu\"),\n",
    "    layers.Dense(32, activation=\"relu\"),\n",
    "    layers.Dense(16, activation=\"relu\"),\n",
    "    layers.Dense(8, activation=\"relu\"),\n",
    "    layers.Dense(len(label_encoder.classes_), activation=\"softmax\")  # Use softmax for multi-class\n",
    "])\n",
    "\n",
    "# Compile the model\n",
    "model.compile(loss=\"sparse_categorical_crossentropy\", optimizer=\"SGD\", metrics=[\"accuracy\"])\n",
    "\n",
    "# Fit the model\n",
    "model.fit(x_train, y_train, epochs=10)\n"
   ]
  },
  {
   "cell_type": "code",
   "execution_count": 68,
   "id": "2687ea04",
   "metadata": {},
   "outputs": [
    {
     "name": "stdout",
     "output_type": "stream",
     "text": [
      "\u001b[1m114/114\u001b[0m \u001b[32m━━━━━━━━━━━━━━━━━━━━\u001b[0m\u001b[37m\u001b[0m \u001b[1m1s\u001b[0m 6ms/step - accuracy: 0.7660 - loss: 0.8319\n"
     ]
    },
    {
     "data": {
      "text/plain": [
       "0.7670516967773438"
      ]
     },
     "execution_count": 68,
     "metadata": {},
     "output_type": "execute_result"
    }
   ],
   "source": [
    "testloss,testaccuracy=model.evaluate(x_test,y_test)\n",
    "\n",
    "testaccuracy"
   ]
  }
 ],
 "metadata": {
  "kernelspec": {
   "display_name": "Python 3",
   "language": "python",
   "name": "python3"
  },
  "language_info": {
   "codemirror_mode": {
    "name": "ipython",
    "version": 3
   },
   "file_extension": ".py",
   "mimetype": "text/x-python",
   "name": "python",
   "nbconvert_exporter": "python",
   "pygments_lexer": "ipython3",
   "version": "3.12.3"
  }
 },
 "nbformat": 4,
 "nbformat_minor": 5
}
